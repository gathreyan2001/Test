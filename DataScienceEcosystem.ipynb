{
  "metadata": {
    "language_info": {
      "codemirror_mode": {
        "name": "python",
        "version": 3
      },
      "file_extension": ".py",
      "mimetype": "text/x-python",
      "name": "python",
      "nbconvert_exporter": "python",
      "pygments_lexer": "ipython3",
      "version": "3.8"
    },
    "kernelspec": {
      "name": "python",
      "display_name": "Python (Pyodide)",
      "language": "python"
    }
  },
  "nbformat_minor": 4,
  "nbformat": 4,
  "cells": [
    {
      "cell_type": "markdown",
      "source": "Data Science Tools and Ecosystem",
      "metadata": {}
    },
    {
      "cell_type": "markdown",
      "source": "In this notebook, Data Science Tools and Ecosystem are summarized.\n",
      "metadata": {}
    },
    {
      "cell_type": "markdown",
      "source": "Some of the popular languages that Data Scientists use are:\n",
      "metadata": {}
    },
    {
      "cell_type": "markdown",
      "source": "Python",
      "metadata": {}
    },
    {
      "cell_type": "markdown",
      "source": "R",
      "metadata": {}
    },
    {
      "cell_type": "markdown",
      "source": "SQL",
      "metadata": {}
    },
    {
      "cell_type": "markdown",
      "source": "Some of the commonly used libraries used by Data Scientists include:\n",
      "metadata": {}
    },
    {
      "cell_type": "markdown",
      "source": "Tensorflow",
      "metadata": {}
    },
    {
      "cell_type": "markdown",
      "source": "Numpy",
      "metadata": {}
    },
    {
      "cell_type": "markdown",
      "source": "Scipy",
      "metadata": {}
    },
    {
      "cell_type": "markdown",
      "source": "Data Science Tools",
      "metadata": {}
    },
    {
      "cell_type": "markdown",
      "source": "Apache spark",
      "metadata": {}
    },
    {
      "cell_type": "markdown",
      "source": "D3.js",
      "metadata": {}
    },
    {
      "cell_type": "markdown",
      "source": "Julia",
      "metadata": {}
    },
    {
      "cell_type": "markdown",
      "source": "Below are a few examples of evaluating arithmetic expressions in Python",
      "metadata": {}
    },
    {
      "cell_type": "code",
      "source": "a=(3*4)+5\nprint(a)",
      "metadata": {
        "trusted": true
      },
      "execution_count": 5,
      "outputs": [
        {
          "name": "stdout",
          "text": "17\n",
          "output_type": "stream"
        }
      ]
    },
    {
      "cell_type": "code",
      "source": "a=300\nprint(a/60)",
      "metadata": {
        "trusted": true
      },
      "execution_count": 6,
      "outputs": [
        {
          "name": "stdout",
          "text": "5.0\n",
          "output_type": "stream"
        }
      ]
    },
    {
      "cell_type": "markdown",
      "source": "Objectives:",
      "metadata": {}
    },
    {
      "cell_type": "markdown",
      "source": "To know popular languages that Data Scientists uses",
      "metadata": {}
    },
    {
      "cell_type": "markdown",
      "source": "To know commonly used libraries used by Data Scientists \n",
      "metadata": {}
    },
    {
      "cell_type": "markdown",
      "source": "For evaluating arithmetic expressions in python",
      "metadata": {}
    },
    {
      "cell_type": "markdown",
      "source": "G Athreyan",
      "metadata": {}
    }
  ]
}